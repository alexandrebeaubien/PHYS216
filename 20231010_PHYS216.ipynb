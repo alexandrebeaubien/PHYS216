{
 "cells": [
  {
   "cell_type": "markdown",
   "metadata": {},
   "source": [
    "### Maxwell's equation\n",
    "\n",
    "\\begin{align*}\n",
    "\\nabla \\cdot E &= \\frac{\\rho}{\\epsilon} \\\\\n",
    "\\nabla \\times E &= -\\frac{\\partial B}{\\partial t} \\\\\n",
    "\\nabla \\cdot B &= 0 \\\\\n",
    "\\nabla \\times B &= \\mu_0 J + \\mu_0 \\epsilon_0 \\frac{\\partial E}{\\partial t}\\\\\n",
    "\\end{align*}\n",
    "\n",
    "### wave equation\n",
    "\n",
    "\\begin{align*}\n",
    "\\nabla^2 E &= \\mu_0 \\epsilon_0 \\frac{\\partial^2 E}{\\partial t^2} \\\\\n",
    "\\nabla^2 B &= \\mu_0 \\epsilon_0 \\frac{\\partial^2 B}{\\partial t^2}\n",
    "\\end{align*}\n",
    "\n",
    "### solution\n",
    "\n",
    "\\begin{align*}\n",
    "\\bold{E} = \\bold{E_0} e^{\\pm i(\\omega t - \\bold{k} \\cdot \\bold{v})}\n",
    "\\end{align*}\n"
   ]
  },
  {
   "cell_type": "markdown",
   "metadata": {},
   "source": [
    "### Rotation in magnetic field\n",
    "\n",
    "Because the magnetic field is perpendicular to the charge velocity, it will never change the magnitude of the velocity but only it's direction.\n",
    "\n",
    "![Rotation in magnetic field](images/rotation_magnetic.jpg)\n",
    "\n",
    "If your velocity also has a parralel component to the magnetic field, it will remain unafected and you will get an helix.\n",
    "\n",
    "![Helix rotation](images/rotation_helix.jpg)"
   ]
  }
 ],
 "metadata": {
  "kernelspec": {
   "display_name": ".venv",
   "language": "python",
   "name": "python3"
  },
  "language_info": {
   "codemirror_mode": {
    "name": "ipython",
    "version": 3
   },
   "file_extension": ".py",
   "mimetype": "text/x-python",
   "name": "python",
   "nbconvert_exporter": "python",
   "pygments_lexer": "ipython3",
   "version": "3.10.5"
  }
 },
 "nbformat": 4,
 "nbformat_minor": 2
}
